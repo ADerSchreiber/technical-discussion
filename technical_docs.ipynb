{
  "nbformat": 4,
  "nbformat_minor": 0,
  "metadata": {
    "colab": {
      "name": "technical-docs.ipynb",
      "provenance": [],
      "authorship_tag": "ABX9TyPRrz/Krx2LWBDDfAgpfh36",
      "include_colab_link": true
    },
    "kernelspec": {
      "name": "python3",
      "display_name": "Python 3"
    },
    "language_info": {
      "name": "python"
    }
  },
  "cells": [
    {
      "cell_type": "markdown",
      "metadata": {
        "id": "view-in-github",
        "colab_type": "text"
      },
      "source": [
        "<a href=\"https://colab.research.google.com/github/ADerSchreiber/technical-discussion/blob/main/technical_docs.ipynb\" target=\"_parent\"><img src=\"https://colab.research.google.com/assets/colab-badge.svg\" alt=\"Open In Colab\"/></a>"
      ]
    },
    {
      "cell_type": "markdown",
      "metadata": {
        "id": "vtEnLaCXIv4t"
      },
      "source": [
        "### Ingest"
      ]
    },
    {
      "cell_type": "code",
      "metadata": {
        "colab": {
          "base_uri": "https://localhost:8080/",
          "height": 35
        },
        "id": "71SflVfkIPcy",
        "outputId": "fe9497f7-a3f8-47e6-b0bd-4009b7de4609"
      },
      "source": [
        "def hello():\n",
        "  return \"hi\"\n",
        "hello()"
      ],
      "execution_count": 1,
      "outputs": [
        {
          "output_type": "execute_result",
          "data": {
            "application/vnd.google.colaboratory.intrinsic+json": {
              "type": "string"
            },
            "text/plain": [
              "'hi'"
            ]
          },
          "metadata": {},
          "execution_count": 1
        }
      ]
    },
    {
      "cell_type": "markdown",
      "metadata": {
        "id": "U3Y4X6KHI1ZI"
      },
      "source": [
        "### EDA\n",
        "\n",
        "* one\n",
        "* two\n",
        "* three"
      ]
    },
    {
      "cell_type": "markdown",
      "metadata": {
        "id": "6wXm93F-I4nl"
      },
      "source": [
        "### Modelling phase"
      ]
    },
    {
      "cell_type": "markdown",
      "metadata": {
        "id": "gB1lMUWbI7Jr"
      },
      "source": [
        "### Conclusion"
      ]
    }
  ]
}